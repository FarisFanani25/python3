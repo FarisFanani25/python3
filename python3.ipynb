{
 "cells": [
  {
   "cell_type": "code",
   "execution_count": 1,
   "id": "75685d7a",
   "metadata": {},
   "outputs": [
    {
     "name": "stdout",
     "output_type": "stream",
     "text": [
      "Pilihan menu:\n",
      "1. Hitung FPB\n",
      "2. Hitung KPK\n",
      "3. Keluar\n",
      "Masukkan pilihan Anda: 1\n",
      "Masukkan bilangan pertama: 50\n",
      "Masukkan bilangan kedua: 90\n",
      "FPB dari 50 dan 90 adalah 10\n",
      "Pilihan menu:\n",
      "1. Hitung FPB\n",
      "2. Hitung KPK\n",
      "3. Keluar\n",
      "Masukkan pilihan Anda: 2\n",
      "Masukkan bilangan pertama: 35\n",
      "Masukkan bilangan kedua: 65\n",
      "KPK dari 35 dan 65 adalah 455\n",
      "Pilihan menu:\n",
      "1. Hitung FPB\n",
      "2. Hitung KPK\n",
      "3. Keluar\n",
      "Masukkan pilihan Anda: 3\n",
      "Terima kasih telah menggunakan program ini!\n"
     ]
    }
   ],
   "source": [
    "def hitung_fpb(a, b):\n",
    "    while b != 0:\n",
    "        a, b = b, a % b\n",
    "    return a\n",
    "\n",
    "def hitung_kpk(a, b):\n",
    "    if a == 0 or b == 0:\n",
    "        return 0\n",
    "    kpk = max(a, b)\n",
    "    while True:\n",
    "        if kpk % a == 0 and kpk % b == 0:\n",
    "            return kpk\n",
    "        kpk += 1\n",
    "\n",
    "def tampilkan_menu():\n",
    "    print(\"Pilihan menu:\")\n",
    "    print(\"1. Hitung FPB\")\n",
    "    print(\"2. Hitung KPK\")\n",
    "    print(\"3. Keluar\")\n",
    "\n",
    "def main():\n",
    "    while True:\n",
    "        tampilkan_menu()\n",
    "        try:\n",
    "            pilihan = int(input(\"Masukkan pilihan Anda: \"))\n",
    "        except ValueError:\n",
    "            print(\"Input tidak valid, silakan masukkan bilangan bulat.\")\n",
    "            continue\n",
    "\n",
    "        if pilihan == 1:\n",
    "            try:\n",
    "                a = int(input(\"Masukkan bilangan pertama: \"))\n",
    "                b = int(input(\"Masukkan bilangan kedua: \"))\n",
    "            except ValueError:\n",
    "                print(\"Input tidak valid, silakan masukkan bilangan bulat.\")\n",
    "                continue\n",
    "            fpb = hitung_fpb(a, b)\n",
    "            print(\"FPB dari\", a, \"dan\", b, \"adalah\", fpb)\n",
    "\n",
    "        elif pilihan == 2:\n",
    "            try:\n",
    "                a = int(input(\"Masukkan bilangan pertama: \"))\n",
    "                b = int(input(\"Masukkan bilangan kedua: \"))\n",
    "            except ValueError:\n",
    "                print(\"Input tidak valid, silakan masukkan bilangan bulat.\")\n",
    "                continue\n",
    "            kpk = hitung_kpk(a, b)\n",
    "            print(\"KPK dari\", a, \"dan\", b, \"adalah\", kpk)\n",
    "\n",
    "        elif pilihan == 3:\n",
    "            print(\"Terima kasih telah menggunakan program ini!\")\n",
    "            break\n",
    "\n",
    "        else: \n",
    "            print(\"Pilihan tidak valid, silakan coba lagi.\")\n",
    "\n",
    "if __name__ == '__main__':\n",
    "    main()\n"
   ]
  },
  {
   "cell_type": "code",
   "execution_count": null,
   "id": "196014d1",
   "metadata": {},
   "outputs": [],
   "source": []
  }
 ],
 "metadata": {
  "kernelspec": {
   "display_name": "Python 3 (ipykernel)",
   "language": "python",
   "name": "python3"
  },
  "language_info": {
   "codemirror_mode": {
    "name": "ipython",
    "version": 3
   },
   "file_extension": ".py",
   "mimetype": "text/x-python",
   "name": "python",
   "nbconvert_exporter": "python",
   "pygments_lexer": "ipython3",
   "version": "3.9.12"
  }
 },
 "nbformat": 4,
 "nbformat_minor": 5
}
